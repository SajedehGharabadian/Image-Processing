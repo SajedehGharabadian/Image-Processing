{
 "cells": [
  {
   "cell_type": "code",
   "execution_count": 1,
   "id": "9619fec3-00b0-4903-b4d4-197b530f1545",
   "metadata": {},
   "outputs": [],
   "source": [
    "import os \n",
    "import cv2"
   ]
  },
  {
   "cell_type": "code",
   "execution_count": 2,
   "id": "6ec8c946-b5fc-46d5-9092-7fb83d93d8f6",
   "metadata": {},
   "outputs": [
    {
     "ename": "AttributeError",
     "evalue": "'NoneType' object has no attribute 'shape'",
     "output_type": "error",
     "traceback": [
      "\u001b[1;31m---------------------------------------------------------------------------\u001b[0m",
      "\u001b[1;31mAttributeError\u001b[0m                            Traceback (most recent call last)",
      "\u001b[1;32m~\\AppData\\Local\\Temp\\ipykernel_51772\\1264783608.py\u001b[0m in \u001b[0;36m<module>\u001b[1;34m\u001b[0m\n\u001b[0;32m     17\u001b[0m     \u001b[0mimg1\u001b[0m \u001b[1;33m=\u001b[0m \u001b[0mcv2\u001b[0m\u001b[1;33m.\u001b[0m\u001b[0mimread\u001b[0m\u001b[1;33m(\u001b[0m\u001b[1;34mf'output{k}.png'\u001b[0m\u001b[1;33m)\u001b[0m\u001b[1;33m\u001b[0m\u001b[1;33m\u001b[0m\u001b[0m\n\u001b[0;32m     18\u001b[0m \u001b[1;33m\u001b[0m\u001b[0m\n\u001b[1;32m---> 19\u001b[1;33m     \u001b[0mrows1\u001b[0m\u001b[1;33m,\u001b[0m\u001b[0mcols1\u001b[0m\u001b[1;33m,\u001b[0m\u001b[0mchannels1\u001b[0m \u001b[1;33m=\u001b[0m \u001b[0mimg1\u001b[0m\u001b[1;33m.\u001b[0m\u001b[0mshape\u001b[0m\u001b[1;33m\u001b[0m\u001b[1;33m\u001b[0m\u001b[0m\n\u001b[0m\u001b[0;32m     20\u001b[0m \u001b[1;33m\u001b[0m\u001b[0m\n\u001b[0;32m     21\u001b[0m     \u001b[0mn\u001b[0m \u001b[1;33m=\u001b[0m \u001b[0mrows1\u001b[0m \u001b[1;33m//\u001b[0m \u001b[1;36m5\u001b[0m\u001b[1;33m\u001b[0m\u001b[1;33m\u001b[0m\u001b[0m\n",
      "\u001b[1;31mAttributeError\u001b[0m: 'NoneType' object has no attribute 'shape'"
     ]
    }
   ],
   "source": [
    "for i in range(10):\n",
    "    os.makedirs(f'{i}')\n",
    "\n",
    "\n",
    "img = cv2.imread('Crop numbers/input/mnist.png')\n",
    "\n",
    "rows,cols,channels = img.shape\n",
    "\n",
    "k = rows // 10\n",
    "\n",
    "for i in range(0,rows,k):\n",
    "    target = img[i:i+k,:]\n",
    "    cv2.imwrite(f'Crop numbers/input/output{i}.png',target)\n",
    "\n",
    "counter = 0\n",
    "for k in range(0,1000,100):\n",
    "    img1 = cv2.imread(f'input/output{k}.png')\n",
    "\n",
    "    rows1,cols1,channels1 = img1.shape\n",
    "\n",
    "    n = rows1 // 5\n",
    "\n",
    "    for i in range(0,rows1,n):\n",
    "        for j in range(0,cols,n):\n",
    "            target = img1[i:i+n, j:j+n]\n",
    "            cv2.imwrite(f'output/{counter}/number{i}{j}.png',target)\n",
    "    counter += 1\n",
    "        \n"
   ]
  },
  {
   "cell_type": "code",
   "execution_count": null,
   "id": "748845e7-269e-4515-8558-9e547117647d",
   "metadata": {},
   "outputs": [],
   "source": []
  }
 ],
 "metadata": {
  "kernelspec": {
   "display_name": "Python 3 (ipykernel)",
   "language": "python",
   "name": "python3"
  },
  "language_info": {
   "codemirror_mode": {
    "name": "ipython",
    "version": 3
   },
   "file_extension": ".py",
   "mimetype": "text/x-python",
   "name": "python",
   "nbconvert_exporter": "python",
   "pygments_lexer": "ipython3",
   "version": "3.7.9"
  }
 },
 "nbformat": 4,
 "nbformat_minor": 5
}

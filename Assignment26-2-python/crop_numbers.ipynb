{
 "cells": [
  {
   "cell_type": "code",
   "execution_count": 32,
   "id": "9619fec3-00b0-4903-b4d4-197b530f1545",
   "metadata": {},
   "outputs": [],
   "source": [
    "import os \n",
    "import cv2"
   ]
  },
  {
   "cell_type": "code",
   "execution_count": 33,
   "id": "6ec8c946-b5fc-46d5-9092-7fb83d93d8f6",
   "metadata": {},
   "outputs": [],
   "source": [
    "for i in range(10):\n",
    "    os.makedirs(f'Crop numbers/{i}')\n",
    "\n",
    "\n",
    "img = cv2.imread('Crop numbers/mnist.png')\n",
    "\n",
    "rows,cols,channels = img.shape\n",
    "\n",
    "k = rows // 10\n",
    "\n",
    "for i in range(0,rows,k):\n",
    "    target = img[i:i+k,:]\n",
    "    cv2.imwrite(f'Crop numbers/input/output{i}.png',target)\n",
    "\n",
    "counter = 0\n",
    "for k in range(0,1000,100):\n",
    "    img1 = cv2.imread(f'Crop numbers/input/output{k}.png')\n",
    "\n",
    "    rows1,cols1,channels1 = img1.shape\n",
    "\n",
    "    n = rows1 // 5\n",
    "\n",
    "    for i in range(0,rows1,n):\n",
    "        for j in range(0,cols,n):\n",
    "            target = img1[i:i+n, j:j+n]\n",
    "            cv2.imwrite(f'Crop numbers/{counter}/number{i}{j}.png',target)\n",
    "    counter += 1\n",
    "        \n"
   ]
  },
  {
   "cell_type": "code",
   "execution_count": null,
   "id": "748845e7-269e-4515-8558-9e547117647d",
   "metadata": {},
   "outputs": [],
   "source": []
  },
  {
   "cell_type": "code",
   "execution_count": null,
   "id": "1e9a4a86-7a14-4b3f-952e-443693834e02",
   "metadata": {},
   "outputs": [],
   "source": []
  }
 ],
 "metadata": {
  "kernelspec": {
   "display_name": "Python 3 (ipykernel)",
   "language": "python",
   "name": "python3"
  },
  "language_info": {
   "codemirror_mode": {
    "name": "ipython",
    "version": 3
   },
   "file_extension": ".py",
   "mimetype": "text/x-python",
   "name": "python",
   "nbconvert_exporter": "python",
   "pygments_lexer": "ipython3",
   "version": "3.7.9"
  }
 },
 "nbformat": 4,
 "nbformat_minor": 5
}

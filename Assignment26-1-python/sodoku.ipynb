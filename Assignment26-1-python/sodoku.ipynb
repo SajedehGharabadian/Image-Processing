{
 "cells": [
  {
   "cell_type": "code",
   "execution_count": 1,
   "id": "d5a08e5b-eec2-41d9-b136-cc5920667bf0",
   "metadata": {},
   "outputs": [],
   "source": [
    "import numpy as np\n",
    "import cv2\n",
    "import matplotlib.pyplot as plt"
   ]
  },
  {
   "cell_type": "code",
   "execution_count": 2,
   "id": "a4f5f142-c147-4963-9c80-b713fc274039",
   "metadata": {},
   "outputs": [
    {
     "data": {
      "text/plain": [
       "True"
      ]
     },
     "execution_count": 2,
     "metadata": {},
     "output_type": "execute_result"
    }
   ],
   "source": [
    "img = cv2.imread('input/sudoku.tif')\n",
    "img1 = cv2.cvtColor(img,cv2.COLOR_BGR2GRAY)\n",
    "\n",
    "equ = cv2.equalizeHist(img1)\n",
    "cv2.imwrite('output/sodoku.jpg',equ)"
   ]
  },
  {
   "cell_type": "code",
   "execution_count": 6,
   "id": "49b1b940-6fae-46d3-8081-54a7eac9eeab",
   "metadata": {},
   "outputs": [],
   "source": [
    "img = cv2.imread('output/sodoku.jpg')\n",
    "\n",
    "img = cv2.cvtColor(img,cv2.COLOR_BGR2GRAY)\n",
    "\n",
    "edges= cv2.Canny(img,50,200)\n",
    "\n",
    "contours, hierarchy= cv2.findContours(edges.copy(), cv2.RETR_EXTERNAL, cv2.CHAIN_APPROX_NONE)\n",
    "\n",
    "\n",
    "sorted_contours= sorted(contours, key=cv2.contourArea, reverse= True)\n",
    "\n",
    "for (i,c) in enumerate(sorted_contours):\n",
    "    x,y,w,h= cv2.boundingRect(c)\n",
    "    \n",
    "    cropped_contour= img[y:y+h, x:x+w]\n",
    "    image_name= \"soduko/shape_number_\" + str(i+1) + \".jpg\"\n",
    "    cv2.imwrite(image_name, cropped_contour)\n",
    "    readimage= cv2.imread(image_name)\n",
    "    cv2.imshow('Image', readimage)\n",
    "   "
   ]
  },
  {
   "cell_type": "code",
   "execution_count": 8,
   "id": "0133acd3-0069-4790-ab1b-02857681db3c",
   "metadata": {},
   "outputs": [],
   "source": [
    "img = cv2.imread('shape_number_1.jpg')\n",
    "\n",
    "img = cv2.cvtColor(img,cv2.COLOR_BGR2GRAY)\n",
    "\n",
    "\n",
    "rows,cols = img.shape\n",
    "\n",
    "\n",
    "l = rows // 9\n",
    "\n",
    "for i in range(0,img.shape[0],l):\n",
    "    for j in range(0,img.shape[1],l):\n",
    "        target = img[i+10:i+l-10, j+10:j+l-10]\n",
    "        if np.average(target)<245:\n",
    "            cv2.imwrite(f'sodoku/put{i}{j}.jpg', target)\n"
   ]
  },
  {
   "cell_type": "code",
   "execution_count": null,
   "id": "21fa74b1-b9bf-4637-9405-ecb06849491f",
   "metadata": {},
   "outputs": [],
   "source": []
  }
 ],
 "metadata": {
  "kernelspec": {
   "display_name": "Python 3 (ipykernel)",
   "language": "python",
   "name": "python3"
  },
  "language_info": {
   "codemirror_mode": {
    "name": "ipython",
    "version": 3
   },
   "file_extension": ".py",
   "mimetype": "text/x-python",
   "name": "python",
   "nbconvert_exporter": "python",
   "pygments_lexer": "ipython3",
   "version": "3.7.9"
  }
 },
 "nbformat": 4,
 "nbformat_minor": 5
}

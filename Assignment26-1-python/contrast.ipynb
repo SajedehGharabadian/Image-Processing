{
 "cells": [
  {
   "cell_type": "code",
   "execution_count": 1,
   "id": "87ba4b9d-f33b-4d1a-9e32-079983e7adbd",
   "metadata": {},
   "outputs": [
    {
     "data": {
      "text/plain": [
       "True"
      ]
     },
     "execution_count": 1,
     "metadata": {},
     "output_type": "execute_result"
    }
   ],
   "source": [
    "import cv2\n",
    "import numpy as np\n",
    "\n",
    "img = cv2.imread('input/tree.jpg')\n",
    "\n",
    "img = cv2.cvtColor(img,cv2.COLOR_BGR2GRAY)\n",
    "gamma = 2\n",
    "\n",
    "lookUpTable = np.empty((1,256), np.uint8)\n",
    "for i in range(256):\n",
    "    lookUpTable[0,i] = np.clip(pow(i / 255.0, gamma) * 255.0, 0, 255)\n",
    "res = cv2.LUT(img, lookUpTable)\n",
    "\n",
    "cv2.imwrite('output/out.jpg',res)\n"
   ]
  },
  {
   "cell_type": "code",
   "execution_count": null,
   "id": "110de61b-4381-4bed-a079-317c355f9f35",
   "metadata": {},
   "outputs": [],
   "source": []
  }
 ],
 "metadata": {
  "kernelspec": {
   "display_name": "Python 3 (ipykernel)",
   "language": "python",
   "name": "python3"
  },
  "language_info": {
   "codemirror_mode": {
    "name": "ipython",
    "version": 3
   },
   "file_extension": ".py",
   "mimetype": "text/x-python",
   "name": "python",
   "nbconvert_exporter": "python",
   "pygments_lexer": "ipython3",
   "version": "3.7.9"
  }
 },
 "nbformat": 4,
 "nbformat_minor": 5
}

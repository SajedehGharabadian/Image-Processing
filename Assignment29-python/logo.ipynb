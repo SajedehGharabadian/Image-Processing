{
 "cells": [
  {
   "cell_type": "code",
   "execution_count": 167,
   "id": "6c561a12-7440-4292-b872-aa10a677e57c",
   "metadata": {},
   "outputs": [],
   "source": [
    "import cv2\n",
    "import matplotlib.pyplot as plt\n",
    "import numpy as np"
   ]
  },
  {
   "cell_type": "code",
   "execution_count": 168,
   "id": "e0009fd4-707f-430b-8204-8c6f2aa0ca0b",
   "metadata": {},
   "outputs": [],
   "source": [
    "logo = np.ones((500,1100,3),dtype=\"uint8\") * 80"
   ]
  },
  {
   "cell_type": "code",
   "execution_count": 169,
   "id": "d598fdaa-079f-48e2-bbe2-2f84b9c1c255",
   "metadata": {},
   "outputs": [
    {
     "data": {
      "text/plain": [
       "<matplotlib.image.AxesImage at 0x26a0c305b08>"
      ]
     },
     "execution_count": 169,
     "metadata": {},
     "output_type": "execute_result"
    },
    {
     "data": {
      "image/png": "[encoded data removed]",
      "text/plain": [
       "<Figure size 432x288 with 1 Axes>"
      ]
     },
     "metadata": {
      "needs_background": "light"
     },
     "output_type": "display_data"
    }
   ],
   "source": [
    "plt.imshow(logo)"
   ]
  },
  {
   "cell_type": "code",
   "execution_count": 170,
   "id": "935343ba-f684-4cf9-9807-fd73667d0cf7",
   "metadata": {},
   "outputs": [],
   "source": [
    "logo[150:250,150:250] = (246,83,20)\n",
    "\n",
    "logo[260:360,150:250] = (0,161,241)\n",
    "\n",
    "logo[150:250,260:360] = (124,187,0)\n",
    "\n",
    "logo[260:360,260:360] = (255,187,0)\n"
   ]
  },
  {
   "cell_type": "code",
   "execution_count": 171,
   "id": "3b5aefbb-a941-4374-9618-f75805e809dd",
   "metadata": {},
   "outputs": [
    {
     "data": {
      "text/plain": [
       "True"
      ]
     },
     "execution_count": 171,
     "metadata": {},
     "output_type": "execute_result"
    },
    {
     "data": {
      "image/png": "[encoded data removed]",
      "text/plain": [
       "<Figure size 432x288 with 1 Axes>"
      ]
     },
     "metadata": {
      "needs_background": "light"
     },
     "output_type": "display_data"
    },
    {
     "name": "stderr",
     "output_type": "stream",
     "text": [
      "Exception in callback BaseSelectorEventLoop._read_from_self()\n",
      "handle: <Handle BaseSelectorEventLoop._read_from_self()>\n",
      "Traceback (most recent call last):\n",
      "  File \"c:\\users\\frsco\\appdata\\local\\programs\\python\\python37\\lib\\asyncio\\events.py\", line 88, in _run\n",
      "    self._context.run(self._callback, *self._args)\n",
      "  File \"c:\\users\\frsco\\appdata\\local\\programs\\python\\python37\\lib\\asyncio\\selector_events.py\", line 119, in _read_from_self\n",
      "    data = self._ssock.recv(4096)\n",
      "ConnectionResetError: [WinError 10054] An existing connection was forcibly closed by the remote host\n",
      "Exception in callback BaseSelectorEventLoop._read_from_self()\n",
      "handle: <Handle BaseSelectorEventLoop._read_from_self()>\n",
      "Traceback (most recent call last):\n",
      "  File \"c:\\users\\frsco\\appdata\\local\\programs\\python\\python37\\lib\\asyncio\\events.py\", line 88, in _run\n",
      "    self._context.run(self._callback, *self._args)\n",
      "  File \"c:\\users\\frsco\\appdata\\local\\programs\\python\\python37\\lib\\asyncio\\selector_events.py\", line 119, in _read_from_self\n",
      "    data = self._ssock.recv(4096)\n",
      "ConnectionResetError: [WinError 10054] An existing connection was forcibly closed by the remote host\n",
      "Exception in callback BaseSelectorEventLoop._read_from_self()\n",
      "handle: <Handle BaseSelectorEventLoop._read_from_self()>\n",
      "Traceback (most recent call last):\n",
      "  File \"c:\\users\\frsco\\appdata\\local\\programs\\python\\python37\\lib\\asyncio\\events.py\", line 88, in _run\n",
      "    self._context.run(self._callback, *self._args)\n",
      "  File \"c:\\users\\frsco\\appdata\\local\\programs\\python\\python37\\lib\\asyncio\\selector_events.py\", line 119, in _read_from_self\n",
      "    data = self._ssock.recv(4096)\n",
      "ConnectionResetError: [WinError 10054] An existing connection was forcibly closed by the remote host\n"
     ]
    }
   ],
   "source": [
    "plt.imshow(logo)\n",
    "\n",
    "logo = cv2.putText(logo, 'Microsoft', (380,300),cv2.FONT_HERSHEY_SIMPLEX,4,(255,255,255),15)\n",
    "\n",
    "logo = cv2.cvtColor(logo,cv2.COLOR_BGR2RGB)\n",
    "\n",
    "cv2.imwrite('output/logo.jpg',logo)\n"
   ]
  },
  {
   "cell_type": "code",
   "execution_count": null,
   "id": "b7bb90a3-1306-4e17-b01a-8e4a131e0ed7",
   "metadata": {},
   "outputs": [],
   "source": []
  },
  {
   "cell_type": "code",
   "execution_count": null,
   "id": "a3620e61-dcb9-4ab6-9999-7202ea46635f",
   "metadata": {},
   "outputs": [],
   "source": []
  }
 ],
 "metadata": {
  "kernelspec": {
   "display_name": "Python 3 (ipykernel)",
   "language": "python",
   "name": "python3"
  },
  "language_info": {
   "codemirror_mode": {
    "name": "ipython",
    "version": 3
   },
   "file_extension": ".py",
   "mimetype": "text/x-python",
   "name": "python",
   "nbconvert_exporter": "python",
   "pygments_lexer": "ipython3",
   "version": "3.7.9"
  }
 },
 "nbformat": 4,
 "nbformat_minor": 5
}
